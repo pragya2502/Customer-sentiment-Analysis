{
 "cells": [
  {
   "cell_type": "code",
   "execution_count": 1,
   "metadata": {},
   "outputs": [],
   "source": [
    "import pandas as pd\n",
    "import numpy as np\n",
    "import matplotlib.pyplot as plt\n",
    "import seaborn as sns\n"
   ]
  },
  {
   "cell_type": "code",
   "execution_count": 2,
   "metadata": {},
   "outputs": [
    {
     "data": {
      "text/html": [
       "<div>\n",
       "<style scoped>\n",
       "    .dataframe tbody tr th:only-of-type {\n",
       "        vertical-align: middle;\n",
       "    }\n",
       "\n",
       "    .dataframe tbody tr th {\n",
       "        vertical-align: top;\n",
       "    }\n",
       "\n",
       "    .dataframe thead th {\n",
       "        text-align: right;\n",
       "    }\n",
       "</style>\n",
       "<table border=\"1\" class=\"dataframe\">\n",
       "  <thead>\n",
       "    <tr style=\"text-align: right;\">\n",
       "      <th></th>\n",
       "      <th>Month</th>\n",
       "      <th>Ticket</th>\n",
       "      <th>Rating</th>\n",
       "      <th>Resolving Agent</th>\n",
       "      <th>Comment</th>\n",
       "    </tr>\n",
       "  </thead>\n",
       "  <tbody>\n",
       "    <tr>\n",
       "      <th>0</th>\n",
       "      <td>Dec'20</td>\n",
       "      <td>SR10831576</td>\n",
       "      <td>Strongly Agree</td>\n",
       "      <td>Pulkit Chopra</td>\n",
       "      <td>Keep up the good work!</td>\n",
       "    </tr>\n",
       "    <tr>\n",
       "      <th>1</th>\n",
       "      <td>Dec'20</td>\n",
       "      <td>SR10830807</td>\n",
       "      <td>Agree</td>\n",
       "      <td>Ramit Singh</td>\n",
       "      <td>Very helpful and friendly.</td>\n",
       "    </tr>\n",
       "    <tr>\n",
       "      <th>2</th>\n",
       "      <td>Dec'20</td>\n",
       "      <td>IN10480983</td>\n",
       "      <td>Strongly Agree</td>\n",
       "      <td>Pragya sinha</td>\n",
       "      <td>Very friendly and professional service</td>\n",
       "    </tr>\n",
       "    <tr>\n",
       "      <th>3</th>\n",
       "      <td>Dec'20</td>\n",
       "      <td>SR10830665</td>\n",
       "      <td>Strongly Agree</td>\n",
       "      <td>Liji Kuriakose</td>\n",
       "      <td>Great service guys. Keep it up</td>\n",
       "    </tr>\n",
       "    <tr>\n",
       "      <th>4</th>\n",
       "      <td>Dec'20</td>\n",
       "      <td>IN10479781</td>\n",
       "      <td>Strongly Disagree</td>\n",
       "      <td>Komal Tanwar</td>\n",
       "      <td>The issue was not resolved for almost 5 days ...</td>\n",
       "    </tr>\n",
       "  </tbody>\n",
       "</table>\n",
       "</div>"
      ],
      "text/plain": [
       "    Month      Ticket             Rating Resolving Agent  \\\n",
       "0  Dec'20  SR10831576     Strongly Agree   Pulkit Chopra   \n",
       "1  Dec'20  SR10830807              Agree     Ramit Singh   \n",
       "2  Dec'20  IN10480983     Strongly Agree    Pragya sinha   \n",
       "3  Dec'20  SR10830665     Strongly Agree  Liji Kuriakose   \n",
       "4  Dec'20  IN10479781  Strongly Disagree    Komal Tanwar   \n",
       "\n",
       "                                             Comment  \n",
       "0                             Keep up the good work!  \n",
       "1                         Very helpful and friendly.  \n",
       "2             Very friendly and professional service  \n",
       "3                     Great service guys. Keep it up  \n",
       "4   The issue was not resolved for almost 5 days ...  "
      ]
     },
     "execution_count": 2,
     "metadata": {},
     "output_type": "execute_result"
    }
   ],
   "source": [
    "data= pd.read_csv('Feedback.csv')\n",
    "data.head()"
   ]
  },
  {
   "cell_type": "code",
   "execution_count": 5,
   "metadata": {},
   "outputs": [
    {
     "data": {
      "text/plain": [
       "Month              0\n",
       "Ticket             0\n",
       "Rating             0\n",
       "Resolving Agent    0\n",
       "Comment            0\n",
       "dtype: int64"
      ]
     },
     "execution_count": 5,
     "metadata": {},
     "output_type": "execute_result"
    }
   ],
   "source": [
    "data.isna().sum()"
   ]
  },
  {
   "cell_type": "code",
   "execution_count": 6,
   "metadata": {},
   "outputs": [
    {
     "data": {
      "text/plain": [
       "Month              object\n",
       "Ticket             object\n",
       "Rating             object\n",
       "Resolving Agent    object\n",
       "Comment            object\n",
       "dtype: object"
      ]
     },
     "execution_count": 6,
     "metadata": {},
     "output_type": "execute_result"
    }
   ],
   "source": [
    "data.dtypes\n"
   ]
  },
  {
   "cell_type": "code",
   "execution_count": 7,
   "metadata": {},
   "outputs": [
    {
     "data": {
      "text/plain": [
       "Strongly Agree        208\n",
       "Agree                 103\n",
       "Strongly Disagree      24\n",
       "Neutral                23\n",
       "Disagree               15\n",
       "Stronglee Disagree      1\n",
       "Name: Rating, dtype: int64"
      ]
     },
     "execution_count": 7,
     "metadata": {},
     "output_type": "execute_result"
    }
   ],
   "source": [
    "data['Rating'].value_counts()"
   ]
  },
  {
   "cell_type": "code",
   "execution_count": 8,
   "metadata": {},
   "outputs": [],
   "source": [
    "data=data.replace(to_replace =\"Strongly Agree\", value =5)\n",
    "data=data.replace(to_replace =\"Agree\", value =4)\n",
    "data=data.replace(to_replace =\"Neutral\", value =3)\n",
    "data=data.replace(to_replace =\"Disagree\", value =2)\n",
    "data=data.replace(to_replace =\"Strongly Disagree\", value =1)\n",
    "data=data.replace(to_replace =\"Stronglee Disagree\", value =1)"
   ]
  },
  {
   "cell_type": "code",
   "execution_count": 9,
   "metadata": {},
   "outputs": [
    {
     "data": {
      "text/html": [
       "<div>\n",
       "<style scoped>\n",
       "    .dataframe tbody tr th:only-of-type {\n",
       "        vertical-align: middle;\n",
       "    }\n",
       "\n",
       "    .dataframe tbody tr th {\n",
       "        vertical-align: top;\n",
       "    }\n",
       "\n",
       "    .dataframe thead th {\n",
       "        text-align: right;\n",
       "    }\n",
       "</style>\n",
       "<table border=\"1\" class=\"dataframe\">\n",
       "  <thead>\n",
       "    <tr style=\"text-align: right;\">\n",
       "      <th></th>\n",
       "      <th>Month</th>\n",
       "      <th>Ticket</th>\n",
       "      <th>Rating</th>\n",
       "      <th>Resolving Agent</th>\n",
       "      <th>Comment</th>\n",
       "    </tr>\n",
       "  </thead>\n",
       "  <tbody>\n",
       "    <tr>\n",
       "      <th>0</th>\n",
       "      <td>Dec'20</td>\n",
       "      <td>SR10831576</td>\n",
       "      <td>5</td>\n",
       "      <td>Pulkit Chopra</td>\n",
       "      <td>Keep up the good work!</td>\n",
       "    </tr>\n",
       "    <tr>\n",
       "      <th>1</th>\n",
       "      <td>Dec'20</td>\n",
       "      <td>SR10830807</td>\n",
       "      <td>4</td>\n",
       "      <td>Ramit Singh</td>\n",
       "      <td>Very helpful and friendly.</td>\n",
       "    </tr>\n",
       "    <tr>\n",
       "      <th>2</th>\n",
       "      <td>Dec'20</td>\n",
       "      <td>IN10480983</td>\n",
       "      <td>5</td>\n",
       "      <td>Pragya sinha</td>\n",
       "      <td>Very friendly and professional service</td>\n",
       "    </tr>\n",
       "    <tr>\n",
       "      <th>3</th>\n",
       "      <td>Dec'20</td>\n",
       "      <td>SR10830665</td>\n",
       "      <td>5</td>\n",
       "      <td>Liji Kuriakose</td>\n",
       "      <td>Great service guys. Keep it up</td>\n",
       "    </tr>\n",
       "    <tr>\n",
       "      <th>4</th>\n",
       "      <td>Dec'20</td>\n",
       "      <td>IN10479781</td>\n",
       "      <td>1</td>\n",
       "      <td>Komal Tanwar</td>\n",
       "      <td>The issue was not resolved for almost 5 days ...</td>\n",
       "    </tr>\n",
       "    <tr>\n",
       "      <th>...</th>\n",
       "      <td>...</td>\n",
       "      <td>...</td>\n",
       "      <td>...</td>\n",
       "      <td>...</td>\n",
       "      <td>...</td>\n",
       "    </tr>\n",
       "    <tr>\n",
       "      <th>369</th>\n",
       "      <td>Apr'20</td>\n",
       "      <td>SR10738765</td>\n",
       "      <td>1</td>\n",
       "      <td>Tanya</td>\n",
       "      <td>reseting password should use via phone number...</td>\n",
       "    </tr>\n",
       "    <tr>\n",
       "      <th>370</th>\n",
       "      <td>Apr'20</td>\n",
       "      <td>SR10740919</td>\n",
       "      <td>4</td>\n",
       "      <td>Rahul Sharma</td>\n",
       "      <td>Good work</td>\n",
       "    </tr>\n",
       "    <tr>\n",
       "      <th>371</th>\n",
       "      <td>Apr'20</td>\n",
       "      <td>SR10737392</td>\n",
       "      <td>5</td>\n",
       "      <td>Mihir Chauhan</td>\n",
       "      <td>Thank you it was great help. Stay safe :)</td>\n",
       "    </tr>\n",
       "    <tr>\n",
       "      <th>372</th>\n",
       "      <td>Apr'20</td>\n",
       "      <td>SR10741472</td>\n",
       "      <td>5</td>\n",
       "      <td>Priya Dubey</td>\n",
       "      <td>The system was asking a different question th...</td>\n",
       "    </tr>\n",
       "    <tr>\n",
       "      <th>373</th>\n",
       "      <td>Apr'20</td>\n",
       "      <td>SR10740134</td>\n",
       "      <td>5</td>\n",
       "      <td>Sangeeta Kumari</td>\n",
       "      <td>Thank you for the timely help</td>\n",
       "    </tr>\n",
       "  </tbody>\n",
       "</table>\n",
       "<p>374 rows × 5 columns</p>\n",
       "</div>"
      ],
      "text/plain": [
       "      Month      Ticket  Rating  Resolving Agent  \\\n",
       "0    Dec'20  SR10831576       5    Pulkit Chopra   \n",
       "1    Dec'20  SR10830807       4      Ramit Singh   \n",
       "2    Dec'20  IN10480983       5     Pragya sinha   \n",
       "3    Dec'20  SR10830665       5   Liji Kuriakose   \n",
       "4    Dec'20  IN10479781       1     Komal Tanwar   \n",
       "..      ...         ...     ...              ...   \n",
       "369  Apr'20  SR10738765       1            Tanya   \n",
       "370  Apr'20  SR10740919       4     Rahul Sharma   \n",
       "371  Apr'20  SR10737392       5    Mihir Chauhan   \n",
       "372  Apr'20  SR10741472       5      Priya Dubey   \n",
       "373  Apr'20  SR10740134       5  Sangeeta Kumari   \n",
       "\n",
       "                                               Comment  \n",
       "0                               Keep up the good work!  \n",
       "1                           Very helpful and friendly.  \n",
       "2               Very friendly and professional service  \n",
       "3                       Great service guys. Keep it up  \n",
       "4     The issue was not resolved for almost 5 days ...  \n",
       "..                                                 ...  \n",
       "369   reseting password should use via phone number...  \n",
       "370                                          Good work  \n",
       "371          Thank you it was great help. Stay safe :)  \n",
       "372   The system was asking a different question th...  \n",
       "373                      Thank you for the timely help  \n",
       "\n",
       "[374 rows x 5 columns]"
      ]
     },
     "execution_count": 9,
     "metadata": {},
     "output_type": "execute_result"
    }
   ],
   "source": [
    "data"
   ]
  },
  {
   "cell_type": "code",
   "execution_count": 10,
   "metadata": {},
   "outputs": [
    {
     "name": "stdout",
     "output_type": "stream",
     "text": [
      "Requirement already satisfied: nltk in c:\\users\\ps783\\anaconda3\\lib\\site-packages (3.4.5)\n",
      "Requirement already satisfied: six in c:\\users\\ps783\\anaconda3\\lib\\site-packages (from nltk) (1.14.0)\n",
      "Requirement already satisfied: wordcloud in c:\\users\\ps783\\anaconda3\\lib\\site-packages (1.8.1)\n",
      "Requirement already satisfied: numpy>=1.6.1 in c:\\users\\ps783\\anaconda3\\lib\\site-packages (from wordcloud) (1.18.1)\n",
      "Requirement already satisfied: matplotlib in c:\\users\\ps783\\anaconda3\\lib\\site-packages (from wordcloud) (3.1.3)\n",
      "Requirement already satisfied: pillow in c:\\users\\ps783\\anaconda3\\lib\\site-packages (from wordcloud) (7.0.0)\n",
      "Requirement already satisfied: kiwisolver>=1.0.1 in c:\\users\\ps783\\anaconda3\\lib\\site-packages (from matplotlib->wordcloud) (1.1.0)\n",
      "Requirement already satisfied: python-dateutil>=2.1 in c:\\users\\ps783\\anaconda3\\lib\\site-packages (from matplotlib->wordcloud) (2.8.1)\n",
      "Requirement already satisfied: cycler>=0.10 in c:\\users\\ps783\\anaconda3\\lib\\site-packages (from matplotlib->wordcloud) (0.10.0)\n",
      "Requirement already satisfied: pyparsing!=2.0.4,!=2.1.2,!=2.1.6,>=2.0.1 in c:\\users\\ps783\\anaconda3\\lib\\site-packages (from matplotlib->wordcloud) (2.4.6)\n",
      "Requirement already satisfied: setuptools in c:\\users\\ps783\\anaconda3\\lib\\site-packages (from kiwisolver>=1.0.1->matplotlib->wordcloud) (45.2.0.post20200210)\n",
      "Requirement already satisfied: six>=1.5 in c:\\users\\ps783\\anaconda3\\lib\\site-packages (from python-dateutil>=2.1->matplotlib->wordcloud) (1.14.0)\n"
     ]
    }
   ],
   "source": [
    "! pip install nltk\n",
    "! pip install  wordcloud\n"
   ]
  },
  {
   "cell_type": "code",
   "execution_count": 11,
   "metadata": {},
   "outputs": [],
   "source": [
    "import nltk\n",
    "from nltk import word_tokenize\n",
    "from sklearn.feature_extraction.text import CountVectorizer\n",
    "from sklearn.feature_extraction.text import TfidfVectorizer\n",
    "from collections import Counter\n",
    "from wordcloud import WordCloud"
   ]
  },
  {
   "cell_type": "code",
   "execution_count": 12,
   "metadata": {},
   "outputs": [],
   "source": [
    "from sklearn.model_selection import train_test_split\n",
    "from sklearn.linear_model import LogisticRegression\n",
    "from sklearn.ensemble import RandomForestClassifier\n",
    "from sklearn.metrics import accuracy_score\n",
    "from sklearn.metrics import f1_score\n"
   ]
  },
  {
   "cell_type": "code",
   "execution_count": 13,
   "metadata": {},
   "outputs": [],
   "source": [
    "from pylab import rcParams\n",
    "import warnings\n",
    "warnings.filterwarnings(\"ignore\")\n",
    "rcParams['figure.figsize']=14,6\n",
    "plt.style.use('ggplot')\n"
   ]
  },
  {
   "cell_type": "code",
   "execution_count": 14,
   "metadata": {},
   "outputs": [
    {
     "data": {
      "image/png": "[encoded data removed]",
      "text/plain": [
       "<Figure size 1008x432 with 1 Axes>"
      ]
     },
     "metadata": {},
     "output_type": "display_data"
    }
   ],
   "source": [
    "words_per_review = data.Comment.apply(lambda x: len(x.split(' ')))\n",
    "words_per_review.hist(bins=100)\n",
    "plt.xlabel('Review length(Words)')\n",
    "plt.ylabel('Frequency')\n",
    "plt.show()"
   ]
  },
  {
   "cell_type": "code",
   "execution_count": 15,
   "metadata": {},
   "outputs": [
    {
     "name": "stdout",
     "output_type": "stream",
     "text": [
      "Average Words per review= 15.657754010695188\n"
     ]
    }
   ],
   "source": [
    "print('Average Words per review=',np.mean(words_per_review))"
   ]
  },
  {
   "cell_type": "code",
   "execution_count": 16,
   "metadata": {},
   "outputs": [
    {
     "data": {
      "text/plain": [
       "5    55.614973\n",
       "4    27.540107\n",
       "1     6.684492\n",
       "3     6.149733\n",
       "2     4.010695\n",
       "Name: Rating, dtype: float64"
      ]
     },
     "execution_count": 16,
     "metadata": {},
     "output_type": "execute_result"
    }
   ],
   "source": [
    "per_val=100*data['Rating'].value_counts()/len(data)\n",
    "per_val"
   ]
  },
  {
   "cell_type": "code",
   "execution_count": 17,
   "metadata": {},
   "outputs": [
    {
     "data": {
      "text/plain": [
       "<matplotlib.axes._subplots.AxesSubplot at 0x18c913c4c88>"
      ]
     },
     "execution_count": 17,
     "metadata": {},
     "output_type": "execute_result"
    },
    {
     "data": {
      "image/png": "[encoded data removed]",
      "text/plain": [
       "<Figure size 1008x432 with 1 Axes>"
      ]
     },
     "metadata": {},
     "output_type": "display_data"
    }
   ],
   "source": [
    "per_val.plot.bar()"
   ]
  },
  {
   "cell_type": "code",
   "execution_count": 19,
   "metadata": {},
   "outputs": [
    {
     "data": {
      "image/png": "[encoded data removed]",
      "text/plain": [
       "<Figure size 1008x432 with 1 Axes>"
      ]
     },
     "metadata": {},
     "output_type": "display_data"
    }
   ],
   "source": [
    "word_cloud_text=''.join(data['Comment'])\n",
    "wordcloud=WordCloud(max_font_size=100,max_words=100,background_color='white',scale=10,width=800,height=400).generate(word_cloud_text)\n",
    "plt.figure()\n",
    "plt.imshow(wordcloud,interpolation='bilinear')\n",
    "plt.axis(\"off\")\n",
    "plt.show()"
   ]
  },
  {
   "cell_type": "code",
   "execution_count": 20,
   "metadata": {},
   "outputs": [
    {
     "data": {
      "text/plain": [
       "1    311\n",
       "0     40\n",
       "Name: SentimentRating, dtype: int64"
      ]
     },
     "execution_count": 20,
     "metadata": {},
     "output_type": "execute_result"
    }
   ],
   "source": [
    "data['SentimentRating']=np.where(data.Rating>3,1,0)\n",
    "data=data[data.Rating !=3]\n",
    "data['SentimentRating'].value_counts()"
   ]
  },
  {
   "cell_type": "code",
   "execution_count": 21,
   "metadata": {},
   "outputs": [],
   "source": [
    "data['Comment_new']=data['Comment'].str.lower()"
   ]
  },
  {
   "cell_type": "code",
   "execution_count": 22,
   "metadata": {},
   "outputs": [
    {
     "name": "stderr",
     "output_type": "stream",
     "text": [
      "[nltk_data] Downloading package punkt to\n",
      "[nltk_data]     C:\\Users\\ps783\\AppData\\Roaming\\nltk_data...\n",
      "[nltk_data]   Package punkt is already up-to-date!\n"
     ]
    },
    {
     "data": {
      "text/plain": [
       "True"
      ]
     },
     "execution_count": 22,
     "metadata": {},
     "output_type": "execute_result"
    }
   ],
   "source": [
    "from nltk import word_tokenize\n",
    "\n",
    "nltk.download('punkt')"
   ]
  },
  {
   "cell_type": "code",
   "execution_count": 27,
   "metadata": {},
   "outputs": [
    {
     "name": "stdout",
     "output_type": "stream",
     "text": [
      "Number of unique tokens then:  1142\n",
      "Number of unique tokens now:  994\n"
     ]
    }
   ],
   "source": [
    "token_lists=[word_tokenize(each) for each in data['Comment']]\n",
    "tokens=[item for sublist in token_lists for item in sublist]\n",
    "print(\"Number of unique tokens then: \",len(set(tokens)))\n",
    "\n",
    "token_lists_lower=[word_tokenize(each) for each in data['Comment_new']]\n",
    "tokens_lower=[item for sublist in token_lists_lower for item in sublist]\n",
    "print(\"Number of unique tokens now: \",len(set(tokens_lower)))\n",
    "\n",
    "\n"
   ]
  },
  {
   "cell_type": "code",
   "execution_count": 29,
   "metadata": {},
   "outputs": [
    {
     "data": {
      "text/plain": [
       "{'!', '&', \"'\", '(', ')', ',', '-', '.', '/', ':', '?', '’', '“', '”'}"
      ]
     },
     "execution_count": 29,
     "metadata": {},
     "output_type": "execute_result"
    }
   ],
   "source": [
    "spl_chars=data['Comment_new'].apply(lambda comment:\n",
    "                                    [char for char in list(comment) if not char.isalnum() and char != ' '])\n",
    "flat_list=[item for sublist in spl_chars for item in sublist]\n",
    "set(flat_list)"
   ]
  },
  {
   "cell_type": "code",
   "execution_count": 31,
   "metadata": {},
   "outputs": [],
   "source": [
    "data_backup=data['Comment_new'].copy()\n",
    "data['Comment_new']=data['Comment_new'].str.replace(r'[^A-Za-z0-9]+', ' ')\n"
   ]
  },
  {
   "cell_type": "code",
   "execution_count": 32,
   "metadata": {},
   "outputs": [
    {
     "name": "stdout",
     "output_type": "stream",
     "text": [
      " - old reviews-\n",
      " the quality of the call was poor- it was difficult to hear the service desk agent, however this was a technical issue. the service desk agent was helpful and resolved my issue efficiently.\n",
      " - New reviews-\n",
      " the quality of the call was poor it was difficult to hear the service desk agent however this was a technical issue the service desk agent was helpful and resolved my issue efficiently \n"
     ]
    }
   ],
   "source": [
    "print(\" - old reviews-\")\n",
    "print(data_backup.values[6])\n",
    "print(\" - New reviews-\")\n",
    "print(data['Comment_new'][6])"
   ]
  },
  {
   "cell_type": "code",
   "execution_count": 33,
   "metadata": {},
   "outputs": [
    {
     "name": "stdout",
     "output_type": "stream",
     "text": [
      "Number of unique tokens then:  1142\n",
      "Number of unique tokens now:  960\n"
     ]
    }
   ],
   "source": [
    "token_lists=[word_tokenize(each) for each in data['Comment']]\n",
    "tokens=[item for sublist in token_lists for item in sublist]\n",
    "print(\"Number of unique tokens then: \",len(set(tokens)))\n",
    "\n",
    "token_lists_lower=[word_tokenize(each) for each in data['Comment_new']]\n",
    "tokens_lower=[item for sublist in token_lists_lower for item in sublist]\n",
    "print(\"Number of unique tokens now: \",len(set(tokens_lower)))\n"
   ]
  },
  {
   "cell_type": "code",
   "execution_count": 34,
   "metadata": {},
   "outputs": [
    {
     "name": "stdout",
     "output_type": "stream",
     "text": [
      "Available language\n",
      "['arabic', 'azerbaijani', 'danish', 'dutch', 'english', 'finnish', 'french', 'german', 'greek', 'hungarian', 'indonesian', 'italian', 'kazakh', 'nepali', 'norwegian', 'portuguese', 'romanian', 'russian', 'slovene', 'spanish', 'swedish', 'tajik', 'turkish']\n"
     ]
    }
   ],
   "source": [
    "from nltk.corpus import stopwords\n",
    "print(\"Available language\")\n",
    "print(stopwords.fileids())"
   ]
  },
  {
   "cell_type": "code",
   "execution_count": 35,
   "metadata": {},
   "outputs": [
    {
     "data": {
      "text/plain": [
       "['i',\n",
       " 'me',\n",
       " 'my',\n",
       " 'myself',\n",
       " 'we',\n",
       " 'our',\n",
       " 'ours',\n",
       " 'ourselves',\n",
       " 'you',\n",
       " \"you're\",\n",
       " \"you've\",\n",
       " \"you'll\",\n",
       " \"you'd\",\n",
       " 'your',\n",
       " 'yours',\n",
       " 'yourself',\n",
       " 'yourselves',\n",
       " 'he',\n",
       " 'him',\n",
       " 'his',\n",
       " 'himself',\n",
       " 'she',\n",
       " \"she's\",\n",
       " 'her',\n",
       " 'hers',\n",
       " 'herself',\n",
       " 'it',\n",
       " \"it's\",\n",
       " 'its',\n",
       " 'itself',\n",
       " 'they',\n",
       " 'them',\n",
       " 'their',\n",
       " 'theirs',\n",
       " 'themselves',\n",
       " 'what',\n",
       " 'which',\n",
       " 'who',\n",
       " 'whom',\n",
       " 'this',\n",
       " 'that',\n",
       " \"that'll\",\n",
       " 'these',\n",
       " 'those',\n",
       " 'am',\n",
       " 'is',\n",
       " 'are',\n",
       " 'was',\n",
       " 'were',\n",
       " 'be',\n",
       " 'been',\n",
       " 'being',\n",
       " 'have',\n",
       " 'has',\n",
       " 'had',\n",
       " 'having',\n",
       " 'do',\n",
       " 'does',\n",
       " 'did',\n",
       " 'doing',\n",
       " 'a',\n",
       " 'an',\n",
       " 'the',\n",
       " 'and',\n",
       " 'but',\n",
       " 'if',\n",
       " 'or',\n",
       " 'because',\n",
       " 'as',\n",
       " 'until',\n",
       " 'while',\n",
       " 'of',\n",
       " 'at',\n",
       " 'by',\n",
       " 'for',\n",
       " 'with',\n",
       " 'about',\n",
       " 'against',\n",
       " 'between',\n",
       " 'into',\n",
       " 'through',\n",
       " 'during',\n",
       " 'before',\n",
       " 'after',\n",
       " 'above',\n",
       " 'below',\n",
       " 'to',\n",
       " 'from',\n",
       " 'up',\n",
       " 'down',\n",
       " 'in',\n",
       " 'out',\n",
       " 'on',\n",
       " 'off',\n",
       " 'over',\n",
       " 'under',\n",
       " 'again',\n",
       " 'further',\n",
       " 'then',\n",
       " 'once',\n",
       " 'here',\n",
       " 'there',\n",
       " 'when',\n",
       " 'where',\n",
       " 'why',\n",
       " 'how',\n",
       " 'all',\n",
       " 'any',\n",
       " 'both',\n",
       " 'each',\n",
       " 'few',\n",
       " 'more',\n",
       " 'most',\n",
       " 'other',\n",
       " 'some',\n",
       " 'such',\n",
       " 'no',\n",
       " 'nor',\n",
       " 'not',\n",
       " 'only',\n",
       " 'own',\n",
       " 'same',\n",
       " 'so',\n",
       " 'than',\n",
       " 'too',\n",
       " 'very',\n",
       " 's',\n",
       " 't',\n",
       " 'can',\n",
       " 'will',\n",
       " 'just',\n",
       " 'don',\n",
       " \"don't\",\n",
       " 'should',\n",
       " \"should've\",\n",
       " 'now',\n",
       " 'd',\n",
       " 'll',\n",
       " 'm',\n",
       " 'o',\n",
       " 're',\n",
       " 've',\n",
       " 'y',\n",
       " 'ain',\n",
       " 'aren',\n",
       " \"aren't\",\n",
       " 'couldn',\n",
       " \"couldn't\",\n",
       " 'didn',\n",
       " \"didn't\",\n",
       " 'doesn',\n",
       " \"doesn't\",\n",
       " 'hadn',\n",
       " \"hadn't\",\n",
       " 'hasn',\n",
       " \"hasn't\",\n",
       " 'haven',\n",
       " \"haven't\",\n",
       " 'isn',\n",
       " \"isn't\",\n",
       " 'ma',\n",
       " 'mightn',\n",
       " \"mightn't\",\n",
       " 'mustn',\n",
       " \"mustn't\",\n",
       " 'needn',\n",
       " \"needn't\",\n",
       " 'shan',\n",
       " \"shan't\",\n",
       " 'shouldn',\n",
       " \"shouldn't\",\n",
       " 'wasn',\n",
       " \"wasn't\",\n",
       " 'weren',\n",
       " \"weren't\",\n",
       " 'won',\n",
       " \"won't\",\n",
       " 'wouldn',\n",
       " \"wouldn't\"]"
      ]
     },
     "execution_count": 35,
     "metadata": {},
     "output_type": "execute_result"
    }
   ],
   "source": [
    "noise_words=[]\n",
    "eng_stop=stopwords.words(\"english\")\n",
    "eng_stop"
   ]
  },
  {
   "cell_type": "code",
   "execution_count": 39,
   "metadata": {},
   "outputs": [
    {
     "name": "stdout",
     "output_type": "stream",
     "text": [
      "----original sentence ----\n",
      " keep up the good work \n",
      "----stopword sentence ----\n",
      " ['up', 'the']\n",
      "----non stop words in sentence ----\n",
      " ['keep', 'good', 'work']\n"
     ]
    }
   ],
   "source": [
    "stop_words=set(eng_stop)\n",
    "without_stop=[]\n",
    "stopword=[]\n",
    "sentence=data['Comment_new'][0]\n",
    "words=nltk.word_tokenize(sentence)\n",
    "\n",
    "for word in words:\n",
    "    if word in stop_words:\n",
    "        stopword.append(word)\n",
    "    else:\n",
    "        without_stop.append(word)\n",
    "\n",
    "\n",
    "print(\"----original sentence ----\\n\",sentence)\n",
    "print(\"----stopword sentence ----\\n\",stopword)\n",
    "print(\"----non stop words in sentence ----\\n\",without_stop)"
   ]
  },
  {
   "cell_type": "code",
   "execution_count": 50,
   "metadata": {},
   "outputs": [
    {
     "data": {
      "text/html": [
       "<div>\n",
       "<style scoped>\n",
       "    .dataframe tbody tr th:only-of-type {\n",
       "        vertical-align: middle;\n",
       "    }\n",
       "\n",
       "    .dataframe tbody tr th {\n",
       "        vertical-align: top;\n",
       "    }\n",
       "\n",
       "    .dataframe thead th {\n",
       "        text-align: right;\n",
       "    }\n",
       "</style>\n",
       "<table border=\"1\" class=\"dataframe\">\n",
       "  <thead>\n",
       "    <tr style=\"text-align: right;\">\n",
       "      <th></th>\n",
       "      <th>Comment_new</th>\n",
       "      <th>review_text_nonstop</th>\n",
       "    </tr>\n",
       "  </thead>\n",
       "  <tbody>\n",
       "    <tr>\n",
       "      <th>0</th>\n",
       "      <td>keep up the good work</td>\n",
       "      <td>[keep, good, work]</td>\n",
       "    </tr>\n",
       "    <tr>\n",
       "      <th>1</th>\n",
       "      <td>very helpful and friendly</td>\n",
       "      <td>[helpful, friendly]</td>\n",
       "    </tr>\n",
       "    <tr>\n",
       "      <th>2</th>\n",
       "      <td>very friendly and professional service</td>\n",
       "      <td>[friendly, professional, service]</td>\n",
       "    </tr>\n",
       "    <tr>\n",
       "      <th>3</th>\n",
       "      <td>great service guys keep it up</td>\n",
       "      <td>[great, service, guys, keep]</td>\n",
       "    </tr>\n",
       "    <tr>\n",
       "      <th>4</th>\n",
       "      <td>the issue was not resolved for almost 5 days ...</td>\n",
       "      <td>[issue, resolved, almost, 5, days, finally, on...</td>\n",
       "    </tr>\n",
       "    <tr>\n",
       "      <th>...</th>\n",
       "      <td>...</td>\n",
       "      <td>...</td>\n",
       "    </tr>\n",
       "    <tr>\n",
       "      <th>369</th>\n",
       "      <td>reseting password should use via phone number...</td>\n",
       "      <td>[reseting, password, use, via, phone, number, ...</td>\n",
       "    </tr>\n",
       "    <tr>\n",
       "      <th>370</th>\n",
       "      <td>good work</td>\n",
       "      <td>[good, work]</td>\n",
       "    </tr>\n",
       "    <tr>\n",
       "      <th>371</th>\n",
       "      <td>thank you it was great help stay safe</td>\n",
       "      <td>[thank, great, help, stay, safe]</td>\n",
       "    </tr>\n",
       "    <tr>\n",
       "      <th>372</th>\n",
       "      <td>the system was asking a different question th...</td>\n",
       "      <td>[system, asking, different, question, set]</td>\n",
       "    </tr>\n",
       "    <tr>\n",
       "      <th>373</th>\n",
       "      <td>thank you for the timely help</td>\n",
       "      <td>[thank, timely, help]</td>\n",
       "    </tr>\n",
       "  </tbody>\n",
       "</table>\n",
       "<p>351 rows × 2 columns</p>\n",
       "</div>"
      ],
      "text/plain": [
       "                                           Comment_new  \\\n",
       "0                               keep up the good work    \n",
       "1                           very helpful and friendly    \n",
       "2               very friendly and professional service   \n",
       "3                        great service guys keep it up   \n",
       "4     the issue was not resolved for almost 5 days ...   \n",
       "..                                                 ...   \n",
       "369   reseting password should use via phone number...   \n",
       "370                                          good work   \n",
       "371             thank you it was great help stay safe    \n",
       "372   the system was asking a different question th...   \n",
       "373                      thank you for the timely help   \n",
       "\n",
       "                                   review_text_nonstop  \n",
       "0                                   [keep, good, work]  \n",
       "1                                  [helpful, friendly]  \n",
       "2                    [friendly, professional, service]  \n",
       "3                         [great, service, guys, keep]  \n",
       "4    [issue, resolved, almost, 5, days, finally, on...  \n",
       "..                                                 ...  \n",
       "369  [reseting, password, use, via, phone, number, ...  \n",
       "370                                       [good, work]  \n",
       "371                   [thank, great, help, stay, safe]  \n",
       "372         [system, asking, different, question, set]  \n",
       "373                              [thank, timely, help]  \n",
       "\n",
       "[351 rows x 2 columns]"
      ]
     },
     "execution_count": 50,
     "metadata": {},
     "output_type": "execute_result"
    }
   ],
   "source": [
    "def stopwords_removal(stop_words,sentence):\n",
    "    return [word for word in nltk.word_tokenize(sentence) if word not in stop_words]\n",
    "data['review_text_nonstop']=data['Comment_new'].apply(lambda row: stopwords_removal(stop_words,row))\n",
    "data[['Comment_new','review_text_nonstop']]"
   ]
  },
  {
   "cell_type": "code",
   "execution_count": 51,
   "metadata": {},
   "outputs": [
    {
     "name": "stderr",
     "output_type": "stream",
     "text": [
      "[nltk_data] Downloading package wordnet to\n",
      "[nltk_data]     C:\\Users\\ps783\\AppData\\Roaming\\nltk_data...\n",
      "[nltk_data]   Unzipping corpora\\wordnet.zip.\n"
     ]
    }
   ],
   "source": [
    "from nltk.stem import PorterStemmer,LancasterStemmer\n",
    "from nltk.stem import WordNetLemmatizer\n",
    "nltk.download('wordnet')\n",
    "from nltk.corpus import wordnet\n",
    "\n",
    "porter=PorterStemmer()\n",
    "lancaster=LancasterStemmer()\n",
    "lemmatizer=WordNetLemmatizer()"
   ]
  },
  {
   "cell_type": "code",
   "execution_count": 53,
   "metadata": {},
   "outputs": [
    {
     "data": {
      "text/html": [
       "<div>\n",
       "<style scoped>\n",
       "    .dataframe tbody tr th:only-of-type {\n",
       "        vertical-align: middle;\n",
       "    }\n",
       "\n",
       "    .dataframe tbody tr th {\n",
       "        vertical-align: top;\n",
       "    }\n",
       "\n",
       "    .dataframe thead th {\n",
       "        text-align: right;\n",
       "    }\n",
       "</style>\n",
       "<table border=\"1\" class=\"dataframe\">\n",
       "  <thead>\n",
       "    <tr style=\"text-align: right;\">\n",
       "      <th></th>\n",
       "      <th>Comment</th>\n",
       "      <th>Rating</th>\n",
       "      <th>SentimentRating</th>\n",
       "    </tr>\n",
       "  </thead>\n",
       "  <tbody>\n",
       "    <tr>\n",
       "      <th>0</th>\n",
       "      <td>Keep up the good work!</td>\n",
       "      <td>5</td>\n",
       "      <td>1</td>\n",
       "    </tr>\n",
       "    <tr>\n",
       "      <th>1</th>\n",
       "      <td>Very helpful and friendly.</td>\n",
       "      <td>4</td>\n",
       "      <td>1</td>\n",
       "    </tr>\n",
       "    <tr>\n",
       "      <th>2</th>\n",
       "      <td>Very friendly and professional service</td>\n",
       "      <td>5</td>\n",
       "      <td>1</td>\n",
       "    </tr>\n",
       "    <tr>\n",
       "      <th>3</th>\n",
       "      <td>Great service guys. Keep it up</td>\n",
       "      <td>5</td>\n",
       "      <td>1</td>\n",
       "    </tr>\n",
       "    <tr>\n",
       "      <th>4</th>\n",
       "      <td>The issue was not resolved for almost 5 days ...</td>\n",
       "      <td>1</td>\n",
       "      <td>0</td>\n",
       "    </tr>\n",
       "  </tbody>\n",
       "</table>\n",
       "</div>"
      ],
      "text/plain": [
       "                                             Comment  Rating  SentimentRating\n",
       "0                             Keep up the good work!       5                1\n",
       "1                         Very helpful and friendly.       4                1\n",
       "2             Very friendly and professional service       5                1\n",
       "3                     Great service guys. Keep it up       5                1\n",
       "4   The issue was not resolved for almost 5 days ...       1                0"
      ]
     },
     "execution_count": 53,
     "metadata": {},
     "output_type": "execute_result"
    }
   ],
   "source": [
    "data[['Comment','Rating','SentimentRating']].head(5)\n"
   ]
  },
  {
   "cell_type": "code",
   "execution_count": 54,
   "metadata": {},
   "outputs": [
    {
     "data": {
      "text/html": [
       "<div>\n",
       "<style scoped>\n",
       "    .dataframe tbody tr th:only-of-type {\n",
       "        vertical-align: middle;\n",
       "    }\n",
       "\n",
       "    .dataframe tbody tr th {\n",
       "        vertical-align: top;\n",
       "    }\n",
       "\n",
       "    .dataframe thead th {\n",
       "        text-align: right;\n",
       "    }\n",
       "</style>\n",
       "<table border=\"1\" class=\"dataframe\">\n",
       "  <thead>\n",
       "    <tr style=\"text-align: right;\">\n",
       "      <th></th>\n",
       "      <th>01</th>\n",
       "      <th>10</th>\n",
       "      <th>10pm</th>\n",
       "      <th>11th</th>\n",
       "      <th>1600</th>\n",
       "      <th>19</th>\n",
       "      <th>20</th>\n",
       "      <th>2020</th>\n",
       "      <th>24</th>\n",
       "      <th>2nd</th>\n",
       "      <th>...</th>\n",
       "      <th>working</th>\n",
       "      <th>would</th>\n",
       "      <th>write</th>\n",
       "      <th>wrong</th>\n",
       "      <th>wrote</th>\n",
       "      <th>years</th>\n",
       "      <th>yet</th>\n",
       "      <th>you</th>\n",
       "      <th>your</th>\n",
       "      <th>zones</th>\n",
       "    </tr>\n",
       "  </thead>\n",
       "  <tbody>\n",
       "    <tr>\n",
       "      <th>0</th>\n",
       "      <td>0</td>\n",
       "      <td>0</td>\n",
       "      <td>0</td>\n",
       "      <td>0</td>\n",
       "      <td>0</td>\n",
       "      <td>0</td>\n",
       "      <td>0</td>\n",
       "      <td>0</td>\n",
       "      <td>0</td>\n",
       "      <td>0</td>\n",
       "      <td>...</td>\n",
       "      <td>0</td>\n",
       "      <td>0</td>\n",
       "      <td>0</td>\n",
       "      <td>0</td>\n",
       "      <td>0</td>\n",
       "      <td>0</td>\n",
       "      <td>0</td>\n",
       "      <td>0</td>\n",
       "      <td>0</td>\n",
       "      <td>0</td>\n",
       "    </tr>\n",
       "    <tr>\n",
       "      <th>1</th>\n",
       "      <td>0</td>\n",
       "      <td>0</td>\n",
       "      <td>0</td>\n",
       "      <td>0</td>\n",
       "      <td>0</td>\n",
       "      <td>0</td>\n",
       "      <td>0</td>\n",
       "      <td>0</td>\n",
       "      <td>0</td>\n",
       "      <td>0</td>\n",
       "      <td>...</td>\n",
       "      <td>0</td>\n",
       "      <td>0</td>\n",
       "      <td>0</td>\n",
       "      <td>0</td>\n",
       "      <td>0</td>\n",
       "      <td>0</td>\n",
       "      <td>0</td>\n",
       "      <td>0</td>\n",
       "      <td>0</td>\n",
       "      <td>0</td>\n",
       "    </tr>\n",
       "    <tr>\n",
       "      <th>2</th>\n",
       "      <td>0</td>\n",
       "      <td>0</td>\n",
       "      <td>0</td>\n",
       "      <td>0</td>\n",
       "      <td>0</td>\n",
       "      <td>0</td>\n",
       "      <td>0</td>\n",
       "      <td>0</td>\n",
       "      <td>0</td>\n",
       "      <td>0</td>\n",
       "      <td>...</td>\n",
       "      <td>0</td>\n",
       "      <td>0</td>\n",
       "      <td>0</td>\n",
       "      <td>0</td>\n",
       "      <td>0</td>\n",
       "      <td>0</td>\n",
       "      <td>0</td>\n",
       "      <td>0</td>\n",
       "      <td>0</td>\n",
       "      <td>0</td>\n",
       "    </tr>\n",
       "    <tr>\n",
       "      <th>3</th>\n",
       "      <td>0</td>\n",
       "      <td>0</td>\n",
       "      <td>0</td>\n",
       "      <td>0</td>\n",
       "      <td>0</td>\n",
       "      <td>0</td>\n",
       "      <td>0</td>\n",
       "      <td>0</td>\n",
       "      <td>0</td>\n",
       "      <td>0</td>\n",
       "      <td>...</td>\n",
       "      <td>0</td>\n",
       "      <td>0</td>\n",
       "      <td>0</td>\n",
       "      <td>0</td>\n",
       "      <td>0</td>\n",
       "      <td>0</td>\n",
       "      <td>0</td>\n",
       "      <td>0</td>\n",
       "      <td>0</td>\n",
       "      <td>0</td>\n",
       "    </tr>\n",
       "    <tr>\n",
       "      <th>4</th>\n",
       "      <td>0</td>\n",
       "      <td>0</td>\n",
       "      <td>0</td>\n",
       "      <td>0</td>\n",
       "      <td>0</td>\n",
       "      <td>0</td>\n",
       "      <td>0</td>\n",
       "      <td>0</td>\n",
       "      <td>0</td>\n",
       "      <td>0</td>\n",
       "      <td>...</td>\n",
       "      <td>0</td>\n",
       "      <td>0</td>\n",
       "      <td>0</td>\n",
       "      <td>0</td>\n",
       "      <td>0</td>\n",
       "      <td>0</td>\n",
       "      <td>0</td>\n",
       "      <td>0</td>\n",
       "      <td>0</td>\n",
       "      <td>0</td>\n",
       "    </tr>\n",
       "  </tbody>\n",
       "</table>\n",
       "<p>5 rows × 946 columns</p>\n",
       "</div>"
      ],
      "text/plain": [
       "   01  10  10pm  11th  1600  19  20  2020  24  2nd  ...  working  would  \\\n",
       "0   0   0     0     0     0   0   0     0   0    0  ...        0      0   \n",
       "1   0   0     0     0     0   0   0     0   0    0  ...        0      0   \n",
       "2   0   0     0     0     0   0   0     0   0    0  ...        0      0   \n",
       "3   0   0     0     0     0   0   0     0   0    0  ...        0      0   \n",
       "4   0   0     0     0     0   0   0     0   0    0  ...        0      0   \n",
       "\n",
       "   write  wrong  wrote  years  yet  you  your  zones  \n",
       "0      0      0      0      0    0    0     0      0  \n",
       "1      0      0      0      0    0    0     0      0  \n",
       "2      0      0      0      0    0    0     0      0  \n",
       "3      0      0      0      0    0    0     0      0  \n",
       "4      0      0      0      0    0    0     0      0  \n",
       "\n",
       "[5 rows x 946 columns]"
      ]
     },
     "execution_count": 54,
     "metadata": {},
     "output_type": "execute_result"
    }
   ],
   "source": [
    "from sklearn.feature_extraction.text import CountVectorizer\n",
    "vec=CountVectorizer()\n",
    "X=vec.fit_transform(data['Comment_new'])\n",
    "df=pd.DataFrame(X.toarray(),columns=vec.get_feature_names())\n",
    "df.head()"
   ]
  },
  {
   "cell_type": "code",
   "execution_count": 57,
   "metadata": {},
   "outputs": [],
   "source": [
    "bow_counts=CountVectorizer(tokenizer=word_tokenize,stop_words=noise_words,ngram_range=(1,1))\n",
    "bow_data=bow_counts.fit_transform(data['Comment_new'])"
   ]
  },
  {
   "cell_type": "code",
   "execution_count": 58,
   "metadata": {},
   "outputs": [
    {
     "data": {
      "text/plain": [
       "<351x960 sparse matrix of type '<class 'numpy.int64'>'\n",
       "\twith 4024 stored elements in Compressed Sparse Row format>"
      ]
     },
     "execution_count": 58,
     "metadata": {},
     "output_type": "execute_result"
    }
   ],
   "source": [
    "bow_data"
   ]
  },
  {
   "cell_type": "code",
   "execution_count": 65,
   "metadata": {},
   "outputs": [],
   "source": [
    "X_train_bow,X_test_bow,y_train_bow,y_test_bow=train_test_split(bow_data,data['SentimentRating'],test_size=0.2,random_state=0)"
   ]
  },
  {
   "cell_type": "code",
   "execution_count": 66,
   "metadata": {},
   "outputs": [
    {
     "data": {
      "text/plain": [
       "1    0.887324\n",
       "0    0.112676\n",
       "Name: SentimentRating, dtype: float64"
      ]
     },
     "execution_count": 66,
     "metadata": {},
     "output_type": "execute_result"
    }
   ],
   "source": [
    "y_test_bow.value_counts()/y_test_bow.shape[0]\n"
   ]
  },
  {
   "cell_type": "code",
   "execution_count": 72,
   "metadata": {},
   "outputs": [
    {
     "name": "stdout",
     "output_type": "stream",
     "text": [
      "F1 score: 0.9393939393939393\n"
     ]
    }
   ],
   "source": [
    "lr_model_all=LogisticRegression()\n",
    "lr_model_all.fit(X_train_bow,y_train_bow)\n",
    "test_pred_lr_all=lr_model_all.predict(X_test_bow)\n",
    "print(\"F1 score:\",f1_score(y_test_bow,test_pred_lr_all))"
   ]
  },
  {
   "cell_type": "code",
   "execution_count": 70,
   "metadata": {},
   "outputs": [],
   "source": [
    "bow_counts=CountVectorizer(tokenizer=word_tokenize,ngram_range=(1,4))\n",
    "bow_data=bow_counts.fit_transform(data.Comment_new)"
   ]
  },
  {
   "cell_type": "code",
   "execution_count": 73,
   "metadata": {},
   "outputs": [
    {
     "data": {
      "text/plain": [
       "<351x11431 sparse matrix of type '<class 'numpy.int64'>'\n",
       "\twith 16352 stored elements in Compressed Sparse Row format>"
      ]
     },
     "execution_count": 73,
     "metadata": {},
     "output_type": "execute_result"
    }
   ],
   "source": [
    "bow_data"
   ]
  },
  {
   "cell_type": "code",
   "execution_count": 74,
   "metadata": {},
   "outputs": [],
   "source": [
    "X_train_bow,X_test_bow,y_train_bow,y_test_bow=train_test_split(bow_data,data['SentimentRating'],test_size=0.2,random_state=0)"
   ]
  },
  {
   "cell_type": "code",
   "execution_count": 75,
   "metadata": {},
   "outputs": [
    {
     "name": "stdout",
     "output_type": "stream",
     "text": [
      "F1 score: 0.9473684210526316\n"
     ]
    }
   ],
   "source": [
    "lr_model_all_new=LogisticRegression(max_iter=200)\n",
    "lr_model_all_new.fit(X_train_bow,y_train_bow)\n",
    "test_pred_lr_all=lr_model_all_new.predict(X_test_bow)\n",
    "print(\"F1 score:\",f1_score(y_test_bow,test_pred_lr_all))"
   ]
  },
  {
   "cell_type": "code",
   "execution_count": 76,
   "metadata": {},
   "outputs": [
    {
     "data": {
      "text/html": [
       "<div>\n",
       "<style scoped>\n",
       "    .dataframe tbody tr th:only-of-type {\n",
       "        vertical-align: middle;\n",
       "    }\n",
       "\n",
       "    .dataframe tbody tr th {\n",
       "        vertical-align: top;\n",
       "    }\n",
       "\n",
       "    .dataframe thead th {\n",
       "        text-align: right;\n",
       "    }\n",
       "</style>\n",
       "<table border=\"1\" class=\"dataframe\">\n",
       "  <thead>\n",
       "    <tr style=\"text-align: right;\">\n",
       "      <th></th>\n",
       "      <th>words</th>\n",
       "      <th>weights</th>\n",
       "    </tr>\n",
       "  </thead>\n",
       "  <tbody>\n",
       "    <tr>\n",
       "      <th>10318</th>\n",
       "      <td>very</td>\n",
       "      <td>0.841138</td>\n",
       "    </tr>\n",
       "    <tr>\n",
       "      <th>3469</th>\n",
       "      <td>good</td>\n",
       "      <td>0.586214</td>\n",
       "    </tr>\n",
       "    <tr>\n",
       "      <th>7880</th>\n",
       "      <td>service</td>\n",
       "      <td>0.566188</td>\n",
       "    </tr>\n",
       "    <tr>\n",
       "      <th>11316</th>\n",
       "      <td>you</td>\n",
       "      <td>0.547229</td>\n",
       "    </tr>\n",
       "    <tr>\n",
       "      <th>2861</th>\n",
       "      <td>excellent</td>\n",
       "      <td>0.473077</td>\n",
       "    </tr>\n",
       "    <tr>\n",
       "      <th>8651</th>\n",
       "      <td>thank</td>\n",
       "      <td>0.438861</td>\n",
       "    </tr>\n",
       "    <tr>\n",
       "      <th>8658</th>\n",
       "      <td>thank you</td>\n",
       "      <td>0.436216</td>\n",
       "    </tr>\n",
       "    <tr>\n",
       "      <th>725</th>\n",
       "      <td>and</td>\n",
       "      <td>0.251317</td>\n",
       "    </tr>\n",
       "    <tr>\n",
       "      <th>3245</th>\n",
       "      <td>for the</td>\n",
       "      <td>0.234341</td>\n",
       "    </tr>\n",
       "    <tr>\n",
       "      <th>3820</th>\n",
       "      <td>helpful</td>\n",
       "      <td>0.226955</td>\n",
       "    </tr>\n",
       "    <tr>\n",
       "      <th>7567</th>\n",
       "      <td>resolved</td>\n",
       "      <td>0.214603</td>\n",
       "    </tr>\n",
       "    <tr>\n",
       "      <th>8710</th>\n",
       "      <td>thanks for the</td>\n",
       "      <td>0.196557</td>\n",
       "    </tr>\n",
       "    <tr>\n",
       "      <th>10894</th>\n",
       "      <td>well</td>\n",
       "      <td>0.196366</td>\n",
       "    </tr>\n",
       "    <tr>\n",
       "      <th>7204</th>\n",
       "      <td>quick</td>\n",
       "      <td>0.194922</td>\n",
       "    </tr>\n",
       "    <tr>\n",
       "      <th>7546</th>\n",
       "      <td>resolve</td>\n",
       "      <td>0.182662</td>\n",
       "    </tr>\n",
       "  </tbody>\n",
       "</table>\n",
       "</div>"
      ],
      "text/plain": [
       "                words   weights\n",
       "10318            very  0.841138\n",
       "3469             good  0.586214\n",
       "7880          service  0.566188\n",
       "11316             you  0.547229\n",
       "2861        excellent  0.473077\n",
       "8651            thank  0.438861\n",
       "8658        thank you  0.436216\n",
       "725               and  0.251317\n",
       "3245          for the  0.234341\n",
       "3820          helpful  0.226955\n",
       "7567         resolved  0.214603\n",
       "8710   thanks for the  0.196557\n",
       "10894            well  0.196366\n",
       "7204            quick  0.194922\n",
       "7546          resolve  0.182662"
      ]
     },
     "execution_count": 76,
     "metadata": {},
     "output_type": "execute_result"
    }
   ],
   "source": [
    "lr_weights=pd.DataFrame(list(zip(bow_counts.get_feature_names(),lr_model_all_new.coef_[0])),\n",
    "                        columns=['words','weights'])\n",
    "lr_weights.sort_values(['weights'],ascending=False)[:15]"
   ]
  },
  {
   "cell_type": "code",
   "execution_count": 79,
   "metadata": {},
   "outputs": [
    {
     "data": {
      "text/html": [
       "<div>\n",
       "<style scoped>\n",
       "    .dataframe tbody tr th:only-of-type {\n",
       "        vertical-align: middle;\n",
       "    }\n",
       "\n",
       "    .dataframe tbody tr th {\n",
       "        vertical-align: top;\n",
       "    }\n",
       "\n",
       "    .dataframe thead th {\n",
       "        text-align: right;\n",
       "    }\n",
       "</style>\n",
       "<table border=\"1\" class=\"dataframe\">\n",
       "  <thead>\n",
       "    <tr style=\"text-align: right;\">\n",
       "      <th></th>\n",
       "      <th>words</th>\n",
       "      <th>weights</th>\n",
       "    </tr>\n",
       "  </thead>\n",
       "  <tbody>\n",
       "    <tr>\n",
       "      <th>7777</th>\n",
       "      <td>satisfied</td>\n",
       "      <td>-0.794261</td>\n",
       "    </tr>\n",
       "    <tr>\n",
       "      <th>8704</th>\n",
       "      <td>thanks for help</td>\n",
       "      <td>-0.700169</td>\n",
       "    </tr>\n",
       "    <tr>\n",
       "      <th>3211</th>\n",
       "      <td>for help</td>\n",
       "      <td>-0.700169</td>\n",
       "    </tr>\n",
       "    <tr>\n",
       "      <th>581</th>\n",
       "      <td>all marked above</td>\n",
       "      <td>-0.505760</td>\n",
       "    </tr>\n",
       "    <tr>\n",
       "      <th>320</th>\n",
       "      <td>above</td>\n",
       "      <td>-0.505760</td>\n",
       "    </tr>\n",
       "    <tr>\n",
       "      <th>580</th>\n",
       "      <td>all marked</td>\n",
       "      <td>-0.505760</td>\n",
       "    </tr>\n",
       "    <tr>\n",
       "      <th>5523</th>\n",
       "      <td>marked above</td>\n",
       "      <td>-0.505760</td>\n",
       "    </tr>\n",
       "    <tr>\n",
       "      <th>5522</th>\n",
       "      <td>marked</td>\n",
       "      <td>-0.505760</td>\n",
       "    </tr>\n",
       "    <tr>\n",
       "      <th>6226</th>\n",
       "      <td>of</td>\n",
       "      <td>-0.492564</td>\n",
       "    </tr>\n",
       "    <tr>\n",
       "      <th>6069</th>\n",
       "      <td>not</td>\n",
       "      <td>-0.465204</td>\n",
       "    </tr>\n",
       "    <tr>\n",
       "      <th>11294</th>\n",
       "      <td>wrong</td>\n",
       "      <td>-0.455229</td>\n",
       "    </tr>\n",
       "    <tr>\n",
       "      <th>5091</th>\n",
       "      <td>keep it</td>\n",
       "      <td>-0.413704</td>\n",
       "    </tr>\n",
       "    <tr>\n",
       "      <th>5092</th>\n",
       "      <td>keep it up</td>\n",
       "      <td>-0.413704</td>\n",
       "    </tr>\n",
       "    <tr>\n",
       "      <th>4992</th>\n",
       "      <td>it up</td>\n",
       "      <td>-0.413704</td>\n",
       "    </tr>\n",
       "    <tr>\n",
       "      <th>3557</th>\n",
       "      <td>great support as always</td>\n",
       "      <td>-0.394994</td>\n",
       "    </tr>\n",
       "  </tbody>\n",
       "</table>\n",
       "</div>"
      ],
      "text/plain": [
       "                         words   weights\n",
       "7777                 satisfied -0.794261\n",
       "8704           thanks for help -0.700169\n",
       "3211                  for help -0.700169\n",
       "581           all marked above -0.505760\n",
       "320                      above -0.505760\n",
       "580                 all marked -0.505760\n",
       "5523              marked above -0.505760\n",
       "5522                    marked -0.505760\n",
       "6226                        of -0.492564\n",
       "6069                       not -0.465204\n",
       "11294                    wrong -0.455229\n",
       "5091                   keep it -0.413704\n",
       "5092                keep it up -0.413704\n",
       "4992                     it up -0.413704\n",
       "3557   great support as always -0.394994"
      ]
     },
     "execution_count": 79,
     "metadata": {},
     "output_type": "execute_result"
    }
   ],
   "source": [
    "lr_weights=pd.DataFrame(list(zip(bow_counts.get_feature_names(),lr_model_all_new.coef_[0])),\n",
    "                        columns=['words','weights'])\n",
    "lr_weights.sort_values(['weights'],ascending=True)[:15]"
   ]
  },
  {
   "cell_type": "code",
   "execution_count": null,
   "metadata": {},
   "outputs": [],
   "source": []
  }
 ],
 "metadata": {
  "kernelspec": {
   "display_name": "Python 3",
   "language": "python",
   "name": "python3"
  },
  "language_info": {
   "codemirror_mode": {
    "name": "ipython",
    "version": 3
   },
   "file_extension": ".py",
   "mimetype": "text/x-python",
   "name": "python",
   "nbconvert_exporter": "python",
   "pygments_lexer": "ipython3",
   "version": "3.7.6"
  }
 },
 "nbformat": 4,
 "nbformat_minor": 4
}
